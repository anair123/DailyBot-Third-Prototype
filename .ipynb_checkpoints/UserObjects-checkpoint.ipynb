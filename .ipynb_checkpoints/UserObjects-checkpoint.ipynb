{
 "cells": [
  {
   "cell_type": "code",
   "execution_count": 1,
   "metadata": {},
   "outputs": [],
   "source": [
    "import pickle"
   ]
  },
  {
   "cell_type": "code",
   "execution_count": 21,
   "metadata": {},
   "outputs": [],
   "source": [
    "class User:\n",
    "    def __init__(self, name, timezone, is_enabled, language):\n",
    "        self.name = name\n",
    "        self.timezone = timezone\n",
    "        self.is_enabled = is_enabled\n",
    "        self.language = language\n",
    "        \n",
    "    \n",
    "    \n",
    "    def introduce_self(self):\n",
    "        print('My name is ',self.name)\n",
    "        \n",
    "    def show_language(self):\n",
    "        print('My language is ',self.language)\n",
    "        \n",
    "    def change_timezone(self, timezone):\n",
    "        self.timezone = timezone\n",
    "        print('Timezone changed to: ',)\n",
    "        \n",
    "    def disable(self):\n",
    "        self.is_enabled = False\n",
    "    \n",
    "    def enable(self):\n",
    "        self.is_enabled = True\n",
    "        \n",
    "    def change_to_Spanish(self):\n",
    "        self.language = \"Spanish\"\n",
    "        \n",
    "    def English(self):\n",
    "        self.language = \"English\""
   ]
  },
  {
   "cell_type": "code",
   "execution_count": 31,
   "metadata": {},
   "outputs": [],
   "source": [
    "aashish = User(\"Aashish Nair\", \"EST\", \"True\", \"English\")\n"
   ]
  },
  {
   "cell_type": "code",
   "execution_count": 29,
   "metadata": {},
   "outputs": [],
   "source": [
    "pickle_class = open('Aashish.pkl', 'wb')\n",
    "pickle.dump(aashish, pickle_class)\n",
    "pickle_class.close()"
   ]
  },
  {
   "cell_type": "code",
   "execution_count": 30,
   "metadata": {},
   "outputs": [],
   "source": [
    "pickle_in = open('Aashish.pkl', 'rb')\n",
    "aashish = pickle.load(pickle_in)"
   ]
  },
  {
   "cell_type": "code",
   "execution_count": null,
   "metadata": {},
   "outputs": [],
   "source": []
  }
 ],
 "metadata": {
  "kernelspec": {
   "display_name": "Python 3",
   "language": "python",
   "name": "python3"
  },
  "language_info": {
   "codemirror_mode": {
    "name": "ipython",
    "version": 3
   },
   "file_extension": ".py",
   "mimetype": "text/x-python",
   "name": "python",
   "nbconvert_exporter": "python",
   "pygments_lexer": "ipython3",
   "version": "3.7.9"
  }
 },
 "nbformat": 4,
 "nbformat_minor": 4
}
