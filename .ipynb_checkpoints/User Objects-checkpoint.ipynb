{
 "cells": [
  {
   "cell_type": "code",
   "execution_count": 1,
   "metadata": {},
   "outputs": [],
   "source": [
    "import pickle"
   ]
  },
  {
   "cell_type": "code",
   "execution_count": 14,
   "metadata": {},
   "outputs": [],
   "source": [
    "class User:\n",
    "    def __init__(self, name, timezone, is_enabled, language):\n",
    "        self.name = name\n",
    "        self.timezone = timezone\n",
    "        self.is_enabled = is_enabled\n",
    "        self.language = language\n",
    "        \n",
    "    \n",
    "    \n",
    "    def introduce_self(self):\n",
    "        print('My name is ',self.name)\n",
    "        \n",
    "    def change_timezone(self, timezone):\n",
    "        self.timezone = timezone\n",
    "        print('Timezone changed to: ',)\n",
    "        \n",
    "    def disable(self):\n",
    "        self.is_enabled = False\n",
    "        print('Disabled')\n",
    "    \n",
    "    def enable(self):\n",
    "        self.is_enabled = True\n",
    "        print('Enabled')\n",
    "        \n",
    "    def Spanish(self):\n",
    "        self.language = \"Spanish\"\n",
    "        \n",
    "    def English(self):\n",
    "        self.language = \"English\""
   ]
  },
  {
   "cell_type": "code",
   "execution_count": 13,
   "metadata": {},
   "outputs": [
    {
     "name": "stdout",
     "output_type": "stream",
     "text": [
      "My name is  Aashish Nair\n",
      "Disabled\n",
      "Enabled\n"
     ]
    }
   ],
   "source": [
    "aashish = User(\"Aashish Nair\", \"EST\", \"True\", \"English\")\n",
    "aashish.introduce_self()\n",
    "aashish.disable()\n",
    "aashish.enable()"
   ]
  },
  {
   "cell_type": "code",
   "execution_count": null,
   "metadata": {},
   "outputs": [],
   "source": []
  }
 ],
 "metadata": {
  "kernelspec": {
   "display_name": "Python 3",
   "language": "python",
   "name": "python3"
  },
  "language_info": {
   "codemirror_mode": {
    "name": "ipython",
    "version": 3
   },
   "file_extension": ".py",
   "mimetype": "text/x-python",
   "name": "python",
   "nbconvert_exporter": "python",
   "pygments_lexer": "ipython3",
   "version": "3.7.9"
  }
 },
 "nbformat": 4,
 "nbformat_minor": 4
}
