{
 "cells": [
  {
   "cell_type": "code",
   "execution_count": 47,
   "metadata": {},
   "outputs": [],
   "source": [
    "class User:\n",
    "    def __init__(self, first_name, last_name, language):\n",
    "        self.first_name = first_name\n",
    "        self.last_name = last_name\n",
    "        self.language = language\n",
    "        \n",
    "    \n",
    "    def introduce_self(self):\n",
    "        print('My name is {} {}'.format(self.first_name, self.last_name))\n",
    "        \n",
    "    def show_language(self):\n",
    "        print('My language is ',self.language)\n",
    "\n",
    "        \n",
    "    def set_to_Spanish(self):\n",
    "        self.language = \"Spanish\"\n",
    "        \n",
    "    def set_to_English(self):\n",
    "        self.language = \"English\""
   ]
  },
  {
   "cell_type": "code",
   "execution_count": 65,
   "metadata": {},
   "outputs": [],
   "source": [
    "class DailyReport:\n",
    "    def __init__(self, is_completed):\n",
    "        self.is_completed = is_completed\n",
    "        \n",
    "    def skip_daily(self):\n",
    "        self.is_completed = True\n",
    "    \n",
    "    def cancel(self):\n",
    "        self.is_completed = False\n",
    "        \n",
    "    def show_status(self):\n",
    "        if self.is_completed == True:\n",
    "            print('Daily Report Completed')\n",
    "        else:\n",
    "            print('Daily Report Not Completed')"
   ]
  },
  {
   "cell_type": "code",
   "execution_count": 66,
   "metadata": {},
   "outputs": [],
   "source": [
    "class Settings:\n",
    "    def __init__(self, is_enabled, given_feedback):\n",
    "        self.is_enabled = is_enabled\n",
    "        self.given_feedback = given_feedback\n",
    "        \n",
    "    def cancel(self):\n",
    "        self.given_feedback = False\n",
    "        \n",
    "    def disable(self):\n",
    "        is_enabled = False\n",
    "        \n",
    "    def enable(self):\n",
    "        is_enabled = True\n",
    "        \n",
    "        "
   ]
  },
  {
   "cell_type": "code",
   "execution_count": 67,
   "metadata": {},
   "outputs": [],
   "source": [
    "class Datetime:\n",
    "    def __init__(self, date, time):\n",
    "        date = self.date\n",
    "        time = self.time\n",
    "        "
   ]
  },
  {
   "cell_type": "code",
   "execution_count": 68,
   "metadata": {},
   "outputs": [],
   "source": [
    "class Appointment:\n",
    "    def __init__(self, member, day, time):\n",
    "        self.member = member # a list of members\n",
    "        self.day = day # datetime variable\n",
    "        self.time = time # datetime variable\n",
    "        \n",
    "    \n",
    "        \n",
    "        "
   ]
  },
  {
   "cell_type": "code",
   "execution_count": 69,
   "metadata": {},
   "outputs": [
    {
     "name": "stdout",
     "output_type": "stream",
     "text": [
      "My name is Aashish Nair\n"
     ]
    }
   ],
   "source": [
    "aashish_user = User(\"Aashish\", \"Nair\", \"English\")\n",
    "aashish_daily_report = DailyReport(\"False\")\n",
    "x \n",
    "aashish.introduce_self()\n"
   ]
  },
  {
   "cell_type": "code",
   "execution_count": 70,
   "metadata": {},
   "outputs": [],
   "source": [
    "aashish_user.daily_report = aashish_daily_report"
   ]
  },
  {
   "cell_type": "code",
   "execution_count": 72,
   "metadata": {},
   "outputs": [],
   "source": [
    "aashish_daily_report.skip_daily()"
   ]
  },
  {
   "cell_type": "code",
   "execution_count": 76,
   "metadata": {},
   "outputs": [
    {
     "name": "stdout",
     "output_type": "stream",
     "text": [
      "Daily Report Completed\n",
      "Daily Report Not Completed\n"
     ]
    }
   ],
   "source": [
    "aashish_user.daily_report.show_status()\n",
    "aashish_user.daily_report.cancel()\n",
    "aashish_user.daily_report.show_status()\n"
   ]
  },
  {
   "cell_type": "code",
   "execution_count": null,
   "metadata": {},
   "outputs": [],
   "source": []
  }
 ],
 "metadata": {
  "kernelspec": {
   "display_name": "Python 3",
   "language": "python",
   "name": "python3"
  },
  "language_info": {
   "codemirror_mode": {
    "name": "ipython",
    "version": 3
   },
   "file_extension": ".py",
   "mimetype": "text/x-python",
   "name": "python",
   "nbconvert_exporter": "python",
   "pygments_lexer": "ipython3",
   "version": "3.7.9"
  }
 },
 "nbformat": 4,
 "nbformat_minor": 4
}
