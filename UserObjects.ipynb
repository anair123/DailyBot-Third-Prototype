{
 "cells": [
  {
   "cell_type": "code",
   "execution_count": 47,
   "metadata": {},
   "outputs": [],
   "source": [
    "class User:\n",
    "    def __init__(self, first_name, last_name, language):\n",
    "        self.first_name = first_name\n",
    "        self.last_name = last_name\n",
    "        self.language = language\n",
    "        \n",
    "    \n",
    "    def introduce_self(self):\n",
    "        print('My name is {} {}'.format(self.first_name, self.last_name))\n",
    "        \n",
    "    def show_language(self):\n",
    "        print('My language is ',self.language)\n",
    "\n",
    "        \n",
    "    def set_to_Spanish(self):\n",
    "        self.language = \"Spanish\"\n",
    "        \n",
    "    def set_to_English(self):\n",
    "        self.language = \"English\""
   ]
  },
  {
   "cell_type": "code",
   "execution_count": 44,
   "metadata": {},
   "outputs": [],
   "source": [
    "class DailyReport:\n",
    "    def __init__(self, is_completed):\n",
    "        is_completed = self.is_completed\n",
    "        \n",
    "    def skip_daily(self):\n",
    "        self.is_completed = True\n",
    "    \n",
    "    def cancel(self):\n",
    "        self.is_completed = False"
   ]
  },
  {
   "cell_type": "code",
   "execution_count": null,
   "metadata": {},
   "outputs": [],
   "source": [
    "class Settings:\n",
    "    def __init__(self, is_enabled, given_feedback):\n",
    "        is_enabled = self.is_enabled\n",
    "        given_feedback = self.given_feedback\n",
    "        \n",
    "    def cancel(self):\n",
    "        self.given_feedback = False\n",
    "        \n",
    "    def disable(self):\n",
    "        is_enabled = False\n",
    "        \n",
    "    def enable(self):\n",
    "        is_enabled = True\n",
    "        "
   ]
  },
  {
   "cell_type": "code",
   "execution_count": null,
   "metadata": {},
   "outputs": [],
   "source": [
    "class Datetime:\n",
    "    def __init__(self, date, time):\n",
    "        date = self.date\n",
    "        time = self.time\n",
    "        "
   ]
  },
  {
   "cell_type": "code",
   "execution_count": 45,
   "metadata": {},
   "outputs": [],
   "source": [
    "class Appointment:\n",
    "    def __init__(self, member, day, time):\n",
    "        self.member = member # a list of members\n",
    "        self.day = day # datetime variable\n",
    "        self.time = time # datetime variable\n",
    "        \n",
    "    \n",
    "        \n",
    "        "
   ]
  },
  {
   "cell_type": "code",
   "execution_count": 48,
   "metadata": {},
   "outputs": [
    {
     "name": "stdout",
     "output_type": "stream",
     "text": [
      "My name is Aashish Nair\n"
     ]
    }
   ],
   "source": [
    "aashish = User(\"Aashish\", \"Nair\", \"English\")\n",
    "aashish.introduce_self()\n"
   ]
  },
  {
   "cell_type": "code",
   "execution_count": null,
   "metadata": {},
   "outputs": [],
   "source": []
  }
 ],
 "metadata": {
  "kernelspec": {
   "display_name": "Python 3",
   "language": "python",
   "name": "python3"
  },
  "language_info": {
   "codemirror_mode": {
    "name": "ipython",
    "version": 3
   },
   "file_extension": ".py",
   "mimetype": "text/x-python",
   "name": "python",
   "nbconvert_exporter": "python",
   "pygments_lexer": "ipython3",
   "version": "3.7.9"
  }
 },
 "nbformat": 4,
 "nbformat_minor": 4
}
