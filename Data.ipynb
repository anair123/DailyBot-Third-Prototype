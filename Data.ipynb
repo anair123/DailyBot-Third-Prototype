{
 "cells": [
  {
   "cell_type": "code",
   "execution_count": 1,
   "metadata": {},
   "outputs": [],
   "source": [
    "import json"
   ]
  },
  {
   "cell_type": "code",
   "execution_count": 2,
   "metadata": {},
   "outputs": [],
   "source": [
    "data_en = {}\n",
    "data_es = {}"
   ]
  },
  {
   "cell_type": "code",
   "execution_count": 3,
   "metadata": {},
   "outputs": [],
   "source": [
    "data_en['interactionModel']={\"languageModel\":{}}\n",
    "data_en['interactionModel']['languageModel'] = {\"intent\": []}\n",
    "\n",
    "data_es['interactionModel']={\"languageModel\":{}}\n",
    "data_es['interactionModel']['languageModel'] = {\"intent\": []}\n",
    " "
   ]
  },
  {
   "cell_type": "markdown",
   "metadata": {},
   "source": [
    "## Hello Intent"
   ]
  },
  {
   "cell_type": "code",
   "execution_count": 4,
   "metadata": {},
   "outputs": [],
   "source": [
    "data_en['interactionModel']['languageModel']['intent'].append({\n",
    "    \"name\":\"hello\",\n",
    "    \"samples\": ['Hi', \n",
    "                'Hello', \n",
    "                'hey',]\n",
    "})\n",
    "\n",
    "data_es['interactionModel']['languageModel']['intent'].append({\n",
    "    \"name\":\"hello\",\n",
    "    \"samples\": ['hola', \n",
    "                'ey', \n",
    "                'oi', \n",
    "                'ola', \n",
    "                'saludos']\n",
    "})"
   ]
  },
  {
   "cell_type": "markdown",
   "metadata": {},
   "source": [
    "## Feedback Intent"
   ]
  },
  {
   "cell_type": "code",
   "execution_count": 5,
   "metadata": {},
   "outputs": [],
   "source": [
    "data_en['interactionModel']['languageModel']['intent'].append(\n",
    "    {\"name\": \"feedback\",\n",
    "     \"samples\": ['feedback', \n",
    "                 'I want some feedback', \n",
    "                 'Give me feedback',\n",
    "                'I want feedback']\n",
    "    })\n",
    "\n",
    "data_es['interactionModel']['languageModel']['intent'].append(\n",
    "    {\"name\": \"feedback\",\n",
    "     \"samples\": ['realimentación', \n",
    "                 'quiero darte retroalimentación',\n",
    "                'retroalimentación', \n",
    "                 'quiero dejarte un mensaje']\n",
    "    })\n",
    "\n"
   ]
  },
  {
   "cell_type": "markdown",
   "metadata": {},
   "source": [
    "## Cancel Intent"
   ]
  },
  {
   "cell_type": "code",
   "execution_count": 6,
   "metadata": {},
   "outputs": [],
   "source": [
    "data_en['interactionModel']['languageModel']['intent'].append(\n",
    "    {\"name\": \"cancel\",\n",
    "     \"samples\": ['cancel',\n",
    "                 'cancel it']\n",
    "    })\n",
    "\n",
    "data_es['interactionModel']['languageModel']['intent'].append(\n",
    "    {\"name\": \"cancel\",\n",
    "     \"samples\": ['cancelar']\n",
    "    })"
   ]
  },
  {
   "cell_type": "markdown",
   "metadata": {},
   "source": [
    "## Chicken Intent"
   ]
  },
  {
   "cell_type": "code",
   "execution_count": 7,
   "metadata": {},
   "outputs": [],
   "source": [
    "data_en['interactionModel']['languageModel']['intent'].append(\n",
    "    {\"name\": \"chicken\",\n",
    "     \"samples\": ['arthur', \n",
    "                 'chicken',  \n",
    "                 'I want arthur', \n",
    "                 'I want the chicken', \n",
    "                 'Bring the chicken', \n",
    "                 'about Arthur']\n",
    "    })\n",
    "\n",
    "data_es['interactionModel']['languageModel']['intent'].append(\n",
    "    {\"name\": \"chicken\",\n",
    "     \"samples\": ['galinha', \n",
    "                 'pollo']\n",
    "    })"
   ]
  },
  {
   "cell_type": "markdown",
   "metadata": {},
   "source": [
    "## Dashboard Intent"
   ]
  },
  {
   "cell_type": "code",
   "execution_count": 9,
   "metadata": {},
   "outputs": [],
   "source": [
    "data_en['interactionModel']['languageModel']['intent'].append(\n",
    "    {\"name\": \"dashboard\",\n",
    "     \"samples\": ['dashboard', \n",
    "                 'Show me the dashboard', \n",
    "                 'Bring the dashboard', \n",
    "                 'I want the dashboard', \n",
    "                 'about dashboard']\n",
    "    })\n",
    "\n",
    "data_es['interactionModel']['languageModel']['intent'].append(\n",
    "    {\"name\": \"dashboard\",\n",
    "     \"samples\": ['tablero',\n",
    "                 'tablero de administración',\n",
    "                'panel de administración', \n",
    "                 'llévame al panel de administración']\n",
    "    })"
   ]
  },
  {
   "cell_type": "markdown",
   "metadata": {},
   "source": [
    "## Datetime Intent"
   ]
  },
  {
   "cell_type": "code",
   "execution_count": null,
   "metadata": {},
   "outputs": [],
   "source": []
  },
  {
   "cell_type": "markdown",
   "metadata": {},
   "source": [
    "## Enable Intent"
   ]
  },
  {
   "cell_type": "markdown",
   "metadata": {},
   "source": [
    "## Help Intent"
   ]
  },
  {
   "cell_type": "markdown",
   "metadata": {},
   "source": [
    "## Extras Intent"
   ]
  },
  {
   "cell_type": "markdown",
   "metadata": {},
   "source": [
    "## News Intent"
   ]
  },
  {
   "cell_type": "markdown",
   "metadata": {},
   "source": [
    "## Settings Intent"
   ]
  },
  {
   "cell_type": "markdown",
   "metadata": {},
   "source": [
    "## TextFormat Intent"
   ]
  },
  {
   "cell_type": "markdown",
   "metadata": {},
   "source": [
    "## Thanks Intent"
   ]
  },
  {
   "cell_type": "markdown",
   "metadata": {},
   "source": [
    "## Timezone Intent"
   ]
  },
  {
   "cell_type": "markdown",
   "metadata": {},
   "source": [
    "# Report Intents"
   ]
  },
  {
   "cell_type": "markdown",
   "metadata": {},
   "source": [
    "## Daily Intent"
   ]
  },
  {
   "cell_type": "markdown",
   "metadata": {},
   "source": [
    "## Hello Intent"
   ]
  },
  {
   "cell_type": "markdown",
   "metadata": {},
   "source": [
    "## DailyStatus Intent"
   ]
  },
  {
   "cell_type": "markdown",
   "metadata": {},
   "source": [
    "## Snooze Intent"
   ]
  },
  {
   "cell_type": "markdown",
   "metadata": {},
   "source": [
    "## SkipDaily Intent"
   ]
  },
  {
   "cell_type": "markdown",
   "metadata": {},
   "source": [
    "## Report  Intent"
   ]
  },
  {
   "cell_type": "markdown",
   "metadata": {},
   "source": [
    "## Kudos Intent"
   ]
  },
  {
   "cell_type": "code",
   "execution_count": null,
   "metadata": {},
   "outputs": [],
   "source": []
  }
 ],
 "metadata": {
  "kernelspec": {
   "display_name": "Python 3",
   "language": "python",
   "name": "python3"
  },
  "language_info": {
   "codemirror_mode": {
    "name": "ipython",
    "version": 3
   },
   "file_extension": ".py",
   "mimetype": "text/x-python",
   "name": "python",
   "nbconvert_exporter": "python",
   "pygments_lexer": "ipython3",
   "version": "3.7.9"
  }
 },
 "nbformat": 4,
 "nbformat_minor": 4
}
